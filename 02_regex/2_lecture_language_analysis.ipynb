{
 "cells": [
  {
   "cell_type": "markdown",
   "metadata": {
    "slideshow": {
     "slide_type": "slide"
    }
   },
   "source": [
    "<center><h2>Language Analysis</h2></center>\n",
    "\n",
    "<center><img src=\"https://imgs.xkcd.com/comics/language_nerd.png\" width=\"500\"/></center>"
   ]
  },
  {
   "cell_type": "markdown",
   "metadata": {
    "slideshow": {
     "slide_type": "slide"
    }
   },
   "source": [
    "By The End Of This Session You Should Be Able To:\n",
    "----\n",
    "\n",
    "- List the 3 level of Linguistic Analysis (Syntax, Semantics, Pragmatics)\n",
    "- Explain the difference between Syntax and Semantics"
   ]
  },
  {
   "cell_type": "markdown",
   "metadata": {
    "slideshow": {
     "slide_type": "slide"
    }
   },
   "source": [
    "What is Un-Natural Language?\n",
    "----\n",
    "\n"
   ]
  },
  {
   "cell_type": "markdown",
   "metadata": {
    "slideshow": {
     "slide_type": "fragment"
    }
   },
   "source": [
    "<center><img src=\"http://blog.typemock.com/wp-content/uploads/2013/06/default_post_pic.jpg\" width=\"700\"/></center>\n",
    "__Computer languages__\n"
   ]
  },
  {
   "cell_type": "markdown",
   "metadata": {
    "slideshow": {
     "slide_type": "slide"
    }
   },
   "source": [
    "3 levels of Linguistic Analysis\n",
    "-----\n",
    "\n",
    "1) Syntax – What is grammatical?"
   ]
  },
  {
   "cell_type": "markdown",
   "metadata": {
    "slideshow": {
     "slide_type": "fragment"
    }
   },
   "source": [
    "2) Semantics – What is the meaning?\n"
   ]
  },
  {
   "cell_type": "markdown",
   "metadata": {
    "slideshow": {
     "slide_type": "fragment"
    }
   },
   "source": [
    "3) Pragmatics – What is the purpose or goal?"
   ]
  },
  {
   "cell_type": "markdown",
   "metadata": {
    "slideshow": {
     "slide_type": "slide"
    }
   },
   "source": [
    "Programming Language Analogy\n",
    "------\n",
    "\n",
    "Successful syntax: “No interpreter/ compiler errors”\n",
    "\n",
    "Successful semantics: “No implementation bugs”\n",
    "\n",
    "Successful pragmatics: “Implemented the right algorithm to solve the problem”"
   ]
  },
  {
   "cell_type": "markdown",
   "metadata": {
    "slideshow": {
     "slide_type": "slide"
    }
   },
   "source": [
    "Parts of a Language\n",
    "------\n",
    "\n",
    "- Symbols\n",
    "- Grammar\n",
    "- Syntax\n",
    "- Semantics"
   ]
  },
  {
   "cell_type": "markdown",
   "metadata": {
    "slideshow": {
     "slide_type": "slide"
    }
   },
   "source": [
    "Python as an example of a language in general\n",
    "------\n",
    "\n",
    "A language can be defined as a __ordered string of symbols__. With rules (implicit or explicit) that specific valid ordering."
   ]
  },
  {
   "cell_type": "markdown",
   "metadata": {
    "slideshow": {
     "slide_type": "fragment"
    }
   },
   "source": [
    "`(2 + 2)` is a valid program in the Python language\n",
    "\n",
    "`(+ 2 2)` is __not__ a valid program in the Python language (possibly valid in Perl 😉)"
   ]
  },
  {
   "cell_type": "markdown",
   "metadata": {
    "slideshow": {
     "slide_type": "skip"
    }
   },
   "source": [
    "Grammar\n",
    "-----\n",
    "\n",
    "The set of structural rules governing the composition of a language."
   ]
  },
  {
   "cell_type": "markdown",
   "metadata": {
    "slideshow": {
     "slide_type": "slide"
    }
   },
   "source": [
    "Syntax: The ordering of specific symbols\n",
    "------\n",
    "\n",
    "<center><img src=\"https://tse4.mm.bing.net/th?id=OIP.EH8rXc7-iKoMJRwZD2FvOwHaHa&pid=Api\" width=\"400\"/></center>"
   ]
  },
  {
   "cell_type": "markdown",
   "metadata": {
    "slideshow": {
     "slide_type": "slide"
    }
   },
   "source": [
    "Semantics: The meaning of symbols\n",
    "-----\n",
    "\n",
    "<center><img src=\"http://study.com/cimages/multimages/16/semantics.png\" width=\"700\"/></center>"
   ]
  },
  {
   "cell_type": "code",
   "execution_count": 1,
   "metadata": {
    "slideshow": {
     "slide_type": "slide"
    }
   },
   "outputs": [
    {
     "data": {
      "text/plain": [
       "24"
      ]
     },
     "execution_count": 1,
     "metadata": {},
     "output_type": "execute_result"
    }
   ],
   "source": [
    "# Correct syntax (symbol use) \n",
    "# Correct semantics (meaning)\n",
    "from functools import reduce\n",
    "\n",
    "def product(iterable):\n",
    "    return reduce(lambda x,y: x*y, iterable)\n",
    "\n",
    "product(range(1, 5))"
   ]
  },
  {
   "cell_type": "code",
   "execution_count": 3,
   "metadata": {
    "slideshow": {
     "slide_type": "slide"
    }
   },
   "outputs": [
    {
     "data": {
      "text/plain": [
       "1"
      ]
     },
     "execution_count": 3,
     "metadata": {},
     "output_type": "execute_result"
    }
   ],
   "source": [
    "# Correct syntax (symbol use) \n",
    "# INCORRECT semantics (meaning), also called a \"bug\"\n",
    "from functools import reduce\n",
    "\n",
    "def product(iterable):\n",
    "    return reduce(lambda x,y: x**y, iterable)\n",
    "\n",
    "product(range(1, 5))"
   ]
  },
  {
   "cell_type": "code",
   "execution_count": 5,
   "metadata": {
    "slideshow": {
     "slide_type": "slide"
    }
   },
   "outputs": [],
   "source": [
    "# 3 different syntaxes that all have the same semantics\n",
    "\n",
    "from functools import reduce\n",
    "\n",
    "def product_v1(iterable):\n",
    "    return reduce(lambda x,y: x*y, iterable)\n",
    "\n",
    "########################################################\n",
    "\n",
    "from operator import mul\n",
    "\n",
    "def product_v2(iterable):\n",
    "    return reduce(mul, iterable)\n",
    "\n",
    "#######################################################\n",
    " \n",
    "from numpy import product as product_v3\n",
    "\n",
    "#######################################################\n",
    "\n",
    "assert product_v1(range(1, 5)) == product_v2(range(1, 5)) == product_v3(range(1, 5))"
   ]
  },
  {
   "cell_type": "markdown",
   "metadata": {
    "slideshow": {
     "slide_type": "slide"
    }
   },
   "source": [
    "Summary\n",
    "-----\n"
   ]
  },
  {
   "cell_type": "markdown",
   "metadata": {
    "slideshow": {
     "slide_type": "fragment"
    }
   },
   "source": [
    "- Syntax is what happens __between__ words. \n",
    "- Semantics is what happens __within__ the words."
   ]
  },
  {
   "cell_type": "markdown",
   "metadata": {
    "slideshow": {
     "slide_type": "fragment"
    }
   },
   "source": [
    "- We just studying syntax. Ignoring grammar (go study that later)."
   ]
  },
  {
   "cell_type": "markdown",
   "metadata": {
    "slideshow": {
     "slide_type": "fragment"
    }
   },
   "source": [
    "- We use syntax to model semantics. "
   ]
  },
  {
   "cell_type": "markdown",
   "metadata": {
    "slideshow": {
     "slide_type": "slide"
    }
   },
   "source": [
    "<br>\n",
    "<br> \n",
    "<br>\n",
    "\n",
    "----"
   ]
  }
 ],
 "metadata": {
  "anaconda-cloud": {},
  "celltoolbar": "Slideshow",
  "kernelspec": {
   "display_name": "Python 3 (ipykernel)",
   "language": "python",
   "name": "python3"
  },
  "language_info": {
   "codemirror_mode": {
    "name": "ipython",
    "version": 3
   },
   "file_extension": ".py",
   "mimetype": "text/x-python",
   "name": "python",
   "nbconvert_exporter": "python",
   "pygments_lexer": "ipython3",
   "version": "3.8.12"
  },
  "toc": {
   "base_numbering": 1,
   "nav_menu": {},
   "number_sections": false,
   "sideBar": true,
   "skip_h1_title": false,
   "title_cell": "Table of Contents",
   "title_sidebar": "Contents",
   "toc_cell": false,
   "toc_position": {},
   "toc_section_display": true,
   "toc_window_display": false
  }
 },
 "nbformat": 4,
 "nbformat_minor": 1
}
